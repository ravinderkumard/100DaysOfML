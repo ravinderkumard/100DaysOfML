{
 "cells": [
  {
   "cell_type": "code",
   "execution_count": 5,
   "id": "11dc39ba-5c2a-4715-918a-78647254616e",
   "metadata": {
    "scrolled": true
   },
   "outputs": [
    {
     "name": "stdin",
     "output_type": "stream",
     "text": [
      "Enter Number: 5\n"
     ]
    },
    {
     "name": "stdout",
     "output_type": "stream",
     "text": [
      "Factorial of Number: 5 = 120\n"
     ]
    }
   ],
   "source": [
    "#Problem 6\n",
    "# Solution\n",
    "def factorial(num):\n",
    "    if num==0:\n",
    "        return 1\n",
    "    return num * factorial(num-1)\n",
    "\n",
    "num = int(input(\"Enter Number:\"))\n",
    "fac = factorial(num)\n",
    "print(f\"Factorial of Number: {num} = {fac}\")"
   ]
  },
  {
   "cell_type": "code",
   "execution_count": 8,
   "id": "6b8c451b-80ae-48af-9e2b-744d3372b013",
   "metadata": {},
   "outputs": [
    {
     "name": "stdout",
     "output_type": "stream",
     "text": [
      "The maximum value is: 45\n",
      "The maximum value is: 45\n"
     ]
    }
   ],
   "source": [
    "# Problem 5\n",
    "# Solution\n",
    "numbers = [5,2,12,1,45,33]\n",
    "largest = max(numbers)\n",
    "print(\"The maximum value is:\",largest)\n",
    "\n",
    "largest = numbers[0]\n",
    "for x in numbers:\n",
    "    if x > largest:\n",
    "        largest = x\n",
    "\n",
    "print(\"The maximum value is:\",largest)\n"
   ]
  },
  {
   "cell_type": "code",
   "execution_count": 17,
   "id": "1cb74177-5060-4c3b-838b-51e9dd059db7",
   "metadata": {},
   "outputs": [
    {
     "name": "stdout",
     "output_type": "stream",
     "text": [
      "Python is a multi-paradigm programming language. Object-oriented programming and structured programming are fully supported, and many of their features support functional programming and aspect-oriented programming – including metaprogramming[57] and metaobjects.[58] Many other paradigms are supported via extensions, including design by contract[59][60] and logic programming.[61] Python is often referred to as a 'glue language'[62] because it is purposely designed to be able to integrate components written in other languages.\n",
      "\n",
      "Python uses dynamic typing and a combination of reference counting and a cycle-detecting garbage collector for memory management.[63] It uses dynamic name resolution (late binding), which binds method and variable names during program execution.\n"
     ]
    }
   ],
   "source": [
    "# Problem 7\n",
    "# Solution\n",
    "file = None\n",
    "try:\n",
    "    with open(\"Day2/sample.txt\",\"r\") as file:\n",
    "        content = file.read()\n",
    "        print(content)\n",
    "except FileNotFoundError:\n",
    "    print(\"File not found\")    \n"
   ]
  },
  {
   "cell_type": "code",
   "execution_count": 27,
   "id": "04579c61-81fe-4f9c-bd50-212b2e4b17c0",
   "metadata": {},
   "outputs": [
    {
     "name": "stdout",
     "output_type": "stream",
     "text": [
      "File exist\n",
      "File Exist\n",
      "File Exists\n"
     ]
    }
   ],
   "source": [
    "# Problem 8\n",
    "# Solution\n",
    "file = None\n",
    "try:\n",
    "    file = open(\"Day2/sample.txt\",\"r\")\n",
    "    \n",
    "    print(\"File exist\")\n",
    "    \n",
    "except FileNotFoundError:\n",
    "    print(\"Unable to read file\")\n",
    "\n",
    "\n",
    "import os\n",
    "if os.path.exists(\"Day2/sample.txt\"):\n",
    "    print(\"File Exist\")\n",
    "else:\n",
    "    print(\"File doesnot exist\")\n",
    "\n",
    "from pathlib import Path\n",
    "file_path = Path(\"Day2/sample.txt\")\n",
    "if file_path.exists():\n",
    "    print(\"File Exists\")\n",
    "else:\n",
    "    print(\"File doesnot exist\")"
   ]
  },
  {
   "cell_type": "code",
   "execution_count": 30,
   "id": "adcecc4b-c059-4c0c-8b83-2ff5d9803334",
   "metadata": {},
   "outputs": [
    {
     "name": "stdout",
     "output_type": "stream",
     "text": [
      "x=2.0,y=1.0\n"
     ]
    }
   ],
   "source": [
    "# Problem 9\n",
    "# Solution\n",
    "# 2x + y = 5\n",
    "# x - y = 1\n",
    "# x = y+1\n",
    "# 2(y+1)+y = 5\n",
    "# 2y+2+y = 5\n",
    "# 3y = 3\n",
    "# y = 1\n",
    "# x = 2\n",
    "\n",
    "import numpy as np\n",
    "# Coefficients of Equations\n",
    "# 2X+y = 5 -> [2,1]\n",
    "# x-y = 1 ->[1,-1]\n",
    "\n",
    "# A system of equations can be written as:\n",
    "#    A . X = B\n",
    "# Where \n",
    "# - A = matrix of Coefficient \n",
    "# - X = column vector of unknowns\n",
    "# - B = column vector of constants\n",
    "# So, for our system:\n",
    "#    2   1       x      5\n",
    "#    1  -1       y      1\n",
    "\n",
    "# That means:\n",
    "#  A =  2   1\n",
    "#       1  -1\n",
    "\n",
    "#  B =  5\n",
    "#       1\n",
    "\n",
    "\n",
    "A = np.array([[2,1],[1,-1]])\n",
    "B = np.array([5,1])\n",
    "\n",
    "x,y = np.linalg.solve(A,B)\n",
    "\n",
    "print(f\"x={x},y={y}\")\n"
   ]
  },
  {
   "cell_type": "code",
   "execution_count": 1,
   "id": "86f93c5b-54a4-4f6d-8c27-a4a6f05686b2",
   "metadata": {},
   "outputs": [
    {
     "name": "stdout",
     "output_type": "stream",
     "text": [
      "Analytical result: 0.333333\n",
      "Numerical (Trapezoidal) result: 0.333333\n"
     ]
    }
   ],
   "source": [
    "# Program 10\n",
    "def f(x):\n",
    "    return x**2\n",
    "\n",
    "analytical = (1**3)/3 - (0**3)/3\n",
    "\n",
    "def integrate_trapezoidal(a,b,n):\n",
    "    h=(b-a)/n # step size\n",
    "    result = 0.5 *(f(a)+f(b))\n",
    "    for i in range(1,n):\n",
    "        result+=f(a+i*h)\n",
    "    result*=h\n",
    "    return result\n",
    "\n",
    "a, b = 0, 1\n",
    "n = 1000\n",
    "\n",
    "numerical = integrate_trapezoidal(a,b,n)\n",
    "print(f\"Analytical result: {analytical:.6f}\")\n",
    "print(f\"Numerical (Trapezoidal) result: {numerical:.6f}\")"
   ]
  },
  {
   "cell_type": "markdown",
   "id": "1a151f90-a26a-4ee3-a98e-1f2917735a85",
   "metadata": {},
   "source": [
    "\"\"\"\n",
    "1️⃣ What Is Integration?\n",
    "\n",
    "Integration is a mathematical operation that finds the area under a curve.\n",
    "\n",
    "If you have a function \n",
    "𝑓(𝑥)\n",
    "f(x), then the definite integral\n",
    "\n",
    "∫𝑎\n",
    "𝑏𝑓(𝑥)𝑑𝑥\n",
    "∫\n",
    "a\n",
    "b\n",
    "\t​\n",
    "\n",
    "f(x)dx\n",
    "\n",
    "represents the total area under the curve of f(x) from x=a to x=b.\n",
    "𝑓(𝑥)\n",
    "f(x): the function you’re integrating\n",
    "\n",
    "𝑎\n",
    "a, \n",
    "𝑏\n",
    "b: lower and upper limits of integration\n",
    "\n",
    "𝑑\n",
    "𝑥\n",
    "dx: a tiny change in \n",
    "𝑥\n",
    "x (width of an infinitesimal strip)\n",
    "\n",
    "The idea is to add up infinitely many thin rectangles under the curve.\n",
    "\n",
    "📘 2️⃣ Your Function: \n",
    "\n",
    "f(x)=x^2\n",
    "\n",
    "This function is a simple parabola:\n",
    "\n",
    "f(x)=x^2\n",
    "\n",
    "It passes through points like:\n",
    "\n",
    "(0, 0)\n",
    "\n",
    "(0.5, 0.25)\n",
    "\n",
    "(1, 1)\n",
    "\n",
    "If you plot it between 0 and 1, you get a curved shape rising upward.\n",
    "\n",
    "🧩 3️⃣ Integration of \n",
    "𝑓\n",
    "(\n",
    "𝑥\n",
    ")\n",
    "=\n",
    "𝑥\n",
    "2\n",
    "f(x)=x\n",
    "2\n",
    "\n",
    "To find the area under the curve from 0 to 1:\n",
    "\n",
    "∫\n",
    "0\n",
    "1\n",
    "𝑥\n",
    "2\n",
    " \n",
    "𝑑\n",
    "𝑥\n",
    "∫\n",
    "0\n",
    "1\n",
    "\t​\n",
    "\n",
    "x\n",
    "2\n",
    "dx\n",
    "Step 1: Find the antiderivative\n",
    "\n",
    "The antiderivative of \n",
    "𝑥\n",
    "2\n",
    "x\n",
    "2\n",
    " is:\n",
    "\n",
    "(𝑥^3)/3+𝐶\n",
    "\n",
    "\n",
    "(where C is a constant, not needed for definite integrals)\n",
    "\n",
    "Step 2: Apply the limits (0 and 1)\n",
    "\n",
    "\n",
    "\n",
    "✅ So the area under the curve from 0 to 1 is 1/3 ≈ 0.3333.\n",
    "\n",
    "💻 4️⃣ How It Works in the Program\n",
    "\n",
    "In the code:\n",
    "\n",
    "def f(x):\n",
    "    return x ** 2\n",
    "\n",
    "\n",
    "Numerically (approximation): using small rectangles or trapezoids to sum the area.\n",
    "\n",
    "Example (trapezoidal rule):\n",
    "\n",
    "def integrate_trapezoidal(a, b, n):\n",
    "    h = (b - a) / n\n",
    "    result = 0.5 * (f(a) + f(b))\n",
    "    for i in range(1, n):\n",
    "        result += f(a + i * h)\n",
    "    result *= h\n",
    "    return result\n",
    "\n",
    "\n",
    "Here:\n",
    "\n",
    "h = width of each small strip.\n",
    "\n",
    "f(a + i*h) = height of each strip.\n",
    "\n",
    "It adds all strip areas ≈ total area under the curve.\n",
    "\n",
    "📊 5️⃣ Visualization (Conceptually)\n",
    "|\n",
    "|       *\n",
    "|     *     f(x) = x²\n",
    "|   * \n",
    "| * \n",
    "+----------------------\n",
    "0        0.5         1\n",
    "\n",
    "\n",
    "Each small trapezoid’s area adds up to approximately 1/3.\n",
    "\n",
    "\n",
    "\n",
    "Would you like me to show a plot of the function and shaded area under the curve to visualize this integration?\n",
    "\"\"\""
   ]
  },
  {
   "cell_type": "code",
   "execution_count": 4,
   "id": "c3fa2149-011a-4eb6-89ce-411abc1baeba",
   "metadata": {},
   "outputs": [
    {
     "name": "stdout",
     "output_type": "stream",
     "text": [
      "Original Matrix: A:\n",
      "[[2 1]\n",
      " [5 3]]\n",
      "\n",
      "Determinant of A: 1.0000000000000002\n",
      "\n",
      "Inverse of A:\n",
      "[[ 3. -1.]\n",
      " [-5.  2.]]\n"
     ]
    }
   ],
   "source": [
    "# Problem 11\n",
    "import numpy as np\n",
    "A = np.array([[2,1],[5,3]])\n",
    "print(\"Original Matrix: A:\")\n",
    "print(A)\n",
    "\n",
    "det_A = np.linalg.det(A)\n",
    "print(\"\\nDeterminant of A:\",det_A)\n",
    "\n",
    "if det_A !=0:\n",
    "    inv_A = np.linalg.inv(A)\n",
    "    print(\"\\nInverse of A:\")\n",
    "    print(inv_A)\n",
    "else:\n",
    "    print(\"\\n Matrix is singular - inverse doesnot exist.\")"
   ]
  },
  {
   "cell_type": "code",
   "execution_count": 5,
   "id": "cffcdd2c-ae3c-4463-b8a4-9b25a5ae6ce8",
   "metadata": {},
   "outputs": [],
   "source": [
    "A = [[1,2,3],[0,4,5],[1,0,6]]\n",
    "det_A = np.linalg.det(A)"
   ]
  },
  {
   "cell_type": "code",
   "execution_count": 6,
   "id": "4a7a0d5f-11e1-4d0b-b07a-f2bf8c88f5e6",
   "metadata": {},
   "outputs": [
    {
     "data": {
      "text/plain": [
       "np.float64(22.000000000000004)"
      ]
     },
     "execution_count": 6,
     "metadata": {},
     "output_type": "execute_result"
    }
   ],
   "source": [
    "det_A"
   ]
  },
  {
   "cell_type": "code",
   "execution_count": 8,
   "id": "506829e1-67e1-4252-8049-e3f6e8ffa206",
   "metadata": {},
   "outputs": [
    {
     "data": {
      "text/plain": [
       "array([[ 1.09090909, -0.54545455, -0.09090909],\n",
       "       [ 0.22727273,  0.13636364, -0.22727273],\n",
       "       [-0.18181818,  0.09090909,  0.18181818]])"
      ]
     },
     "execution_count": 8,
     "metadata": {},
     "output_type": "execute_result"
    }
   ],
   "source": [
    "inv_A = np.linalg.inv(A)\n",
    "inv_A"
   ]
  },
  {
   "cell_type": "code",
   "execution_count": 10,
   "id": "82a8d743-8211-4345-9c83-df59cfb4a76e",
   "metadata": {},
   "outputs": [
    {
     "data": {
      "text/plain": [
       "array([1., 2., 3., 4., 5.])"
      ]
     },
     "execution_count": 10,
     "metadata": {},
     "output_type": "execute_result"
    }
   ],
   "source": [
    "#Program 12\n",
    "arr = np.array([1,4,9,16,25])\n",
    "sqrt_arr = np.sqrt(arr)\n",
    "sqrt_arr"
   ]
  },
  {
   "cell_type": "code",
   "execution_count": 11,
   "id": "0f379392-54e6-486a-a2d8-b24d04fc8908",
   "metadata": {},
   "outputs": [
    {
     "data": {
      "text/plain": [
       "array([1., 2., 3., 4., 5.])"
      ]
     },
     "execution_count": 11,
     "metadata": {},
     "output_type": "execute_result"
    }
   ],
   "source": [
    "def custom_sqrt(x):\n",
    "    return x**0.5\n",
    "\n",
    "vectorized_sqrt = np.vectorize(custom_sqrt)\n",
    "sqrt_arr2 = vectorized_sqrt(arr)\n",
    "sqrt_arr2\n"
   ]
  },
  {
   "cell_type": "code",
   "execution_count": 12,
   "id": "03026ffd-3e90-47ec-ab83-d34cf9cecfc3",
   "metadata": {},
   "outputs": [
    {
     "data": {
      "text/plain": [
       "array([[1.        , 1.41421356, 1.73205081],\n",
       "       [0.        , 2.        , 2.23606798],\n",
       "       [1.        , 0.        , 2.44948974]])"
      ]
     },
     "execution_count": 12,
     "metadata": {},
     "output_type": "execute_result"
    }
   ],
   "source": [
    "matrix = np.sqrt(A)\n",
    "matrix"
   ]
  },
  {
   "cell_type": "code",
   "execution_count": 13,
   "id": "96093f9a-00e5-4b2d-a8c4-ac525440fe24",
   "metadata": {},
   "outputs": [
    {
     "name": "stdout",
     "output_type": "stream",
     "text": [
      "Matrix A:\n",
      " [[1 2 3]\n",
      " [4 5 6]]\n",
      "Matrix B:\n",
      " [[6 5 4]\n",
      " [3 2 1]]\n",
      "\n",
      "A + B =\n",
      " [[7 7 7]\n",
      " [7 7 7]]\n",
      "\n",
      "A - B =\n",
      " [[-5 -3 -1]\n",
      " [ 1  3  5]]\n",
      "\n",
      "A * B (element-wise) =\n",
      " [[ 6 10 12]\n",
      " [12 10  6]]\n",
      "\n",
      "A / B (element-wise) =\n",
      " [[0.16666667 0.4        0.75      ]\n",
      " [1.33333333 2.5        6.        ]]\n",
      "\n",
      "A dot B^T =\n",
      " [[28 10]\n",
      " [73 28]]\n"
     ]
    }
   ],
   "source": [
    "import numpy as np\n",
    "\n",
    "# Define two 2D arrays (matrices)\n",
    "A = np.array([[1, 2, 3],\n",
    "              [4, 5, 6]])\n",
    "\n",
    "B = np.array([[6, 5, 4],\n",
    "              [3, 2, 1]])\n",
    "\n",
    "print(\"Matrix A:\\n\", A)\n",
    "print(\"Matrix B:\\n\", B)\n",
    "\n",
    "# 1️⃣ Addition\n",
    "C_add = A + B\n",
    "print(\"\\nA + B =\\n\", C_add)\n",
    "\n",
    "# 2️⃣ Subtraction\n",
    "C_sub = A - B\n",
    "print(\"\\nA - B =\\n\", C_sub)\n",
    "\n",
    "# 3️⃣ Element-wise Multiplication\n",
    "C_mul = A * B\n",
    "print(\"\\nA * B (element-wise) =\\n\", C_mul)\n",
    "\n",
    "# 4️⃣ Element-wise Division\n",
    "C_div = A / B\n",
    "print(\"\\nA / B (element-wise) =\\n\", C_div)\n",
    "\n",
    "# 5️⃣ Matrix Multiplication (Dot Product)\n",
    "C_dot = np.dot(A, B.T)  # B.T = transpose to match dimensions\n",
    "print(\"\\nA dot B^T =\\n\", C_dot)\n"
   ]
  },
  {
   "cell_type": "code",
   "execution_count": 14,
   "id": "636d0b47-fd68-49d1-a28a-3e2fe33375be",
   "metadata": {},
   "outputs": [
    {
     "name": "stdout",
     "output_type": "stream",
     "text": [
      "Dataset:\n",
      "\n",
      "      Name   Age         City\n",
      "0    Alice  25.0     New York\n",
      "1      Bob   NaN  Los Angeles\n",
      "2  Charlie  30.0         None\n",
      "3    David  22.0      Chicago\n",
      "4     None  28.0      Houston\n",
      "\n",
      "Missing values (True = missing):\n",
      "\n",
      "    Name    Age   City\n",
      "0  False  False  False\n",
      "1  False   True  False\n",
      "2  False  False   True\n",
      "3  False  False  False\n",
      "4   True  False  False\n",
      "\n",
      "Number of missing values in each column:\n",
      "\n",
      "Name    1\n",
      "Age     1\n",
      "City    1\n",
      "dtype: int64\n",
      "\n",
      "Total missing values in the dataset: 3\n"
     ]
    }
   ],
   "source": [
    "import pandas as pd\n",
    "\n",
    "# Example dataset\n",
    "data = {\n",
    "    'Name': ['Alice', 'Bob', 'Charlie', 'David', None],\n",
    "    'Age': [25, None, 30, 22, 28],\n",
    "    'City': ['New York', 'Los Angeles', None, 'Chicago', 'Houston']\n",
    "}\n",
    "\n",
    "# Create a DataFrame\n",
    "df = pd.DataFrame(data)\n",
    "\n",
    "print(\"Dataset:\\n\")\n",
    "print(df)\n",
    "\n",
    "# Check for missing values\n",
    "print(\"\\nMissing values (True = missing):\\n\")\n",
    "print(df.isnull())\n",
    "\n",
    "# Count missing values in each column\n",
    "print(\"\\nNumber of missing values in each column:\\n\")\n",
    "print(df.isnull().sum())\n",
    "\n",
    "# Total missing values in the dataset\n",
    "print(\"\\nTotal missing values in the dataset:\", df.isnull().sum().sum())\n"
   ]
  },
  {
   "cell_type": "code",
   "execution_count": 25,
   "id": "636e2042-10ee-4ddc-8f34-fdce91d43da8",
   "metadata": {},
   "outputs": [
    {
     "name": "stdout",
     "output_type": "stream",
     "text": [
      "Original Dataset:\n",
      "\n",
      "  Department Employee      Salary  Experience\n",
      "0      Sales    Alice  50000.0000           2\n",
      "1         HR      Bob  60000.2000           5\n",
      "2      Sales  Charlie  55000.0000           3\n",
      "3         IT    David  70000.3456           7\n",
      "4         HR      Eva  65000.0000           6\n",
      "5         IT    Frank  72000.0000           8\n",
      "6      Sales    Grace  58000.0000           4\n",
      "\n",
      "Grouped and Aggregated Data:\n",
      "\n",
      "                 Salary  Experience\n",
      "Department                         \n",
      "HR          125000.2000         5.5\n",
      "IT          142000.3456         7.5\n",
      "Sales       163000.0000         3.0\n",
      "\n",
      "Number of employees in each department:\n",
      "\n",
      "Department\n",
      "HR       2\n",
      "IT       2\n",
      "Sales    3\n",
      "Name: Employee, dtype: int64\n"
     ]
    }
   ],
   "source": [
    "#Problem 15\n",
    "import pandas as pd\n",
    "\n",
    "# Example dataset\n",
    "data = {\n",
    "    'Department': ['Sales', 'HR', 'Sales', 'IT', 'HR', 'IT', 'Sales'],\n",
    "    'Employee': ['Alice', 'Bob', 'Charlie', 'David', 'Eva', 'Frank', 'Grace'],\n",
    "    'Salary': [50000, 60000.2, 55000, 70000.3456, 65000, 72000, 58000],\n",
    "    'Experience': [2, 5, 3, 7, 6, 8, 4]\n",
    "}\n",
    "\n",
    "# Create DataFrame\n",
    "df = pd.DataFrame(data)\n",
    "print(\"Original Dataset:\\n\")\n",
    "print(df)\n",
    "\n",
    "# Group by 'Department' and calculate sum of Salary and average Experience\n",
    "grouped = df.groupby('Department').agg({\n",
    "    'Salary': 'sum',\n",
    "    'Experience': 'mean'\n",
    "})\n",
    "\n",
    "print(\"\\nGrouped and Aggregated Data:\\n\")\n",
    "print(grouped)\n",
    "\n",
    "# You can also get count of employees per department\n",
    "count_group = df.groupby('Department')['Employee'].count()\n",
    "print(\"\\nNumber of employees in each department:\\n\")\n",
    "print(count_group)\n"
   ]
  },
  {
   "cell_type": "code",
   "execution_count": 26,
   "id": "3a945871-1a4b-4217-9e79-7b30c8fbbadf",
   "metadata": {},
   "outputs": [
    {
     "name": "stdout",
     "output_type": "stream",
     "text": [
      "\n",
      "Multiple aggregations on Salary:\n",
      "                     sum          mean      max\n",
      "Department                                    \n",
      "HR          125000.2000  62500.100000  65000.0\n",
      "IT          142000.3456  71000.172800  72000.0\n",
      "Sales       163000.0000  54333.333333  58000.0\n"
     ]
    }
   ],
   "source": [
    "grouped_multi = df.groupby('Department')['Salary'].agg(['sum','mean','max'])\n",
    "print(\"\\nMultiple aggregations on Salary:\\n\", grouped_multi)"
   ]
  },
  {
   "cell_type": "code",
   "execution_count": 27,
   "id": "920f4fb2-633e-4160-a349-409c7685e674",
   "metadata": {},
   "outputs": [
    {
     "name": "stdout",
     "output_type": "stream",
     "text": [
      "                   sum      mean      max\n",
      "Department                               \n",
      "HR          125000.200  62500.10  65000.0\n",
      "IT          142000.346  71000.17  72000.0\n",
      "Sales       163000.000  54333.33  58000.0\n"
     ]
    }
   ],
   "source": [
    "grouped_multi['mean'] = grouped_multi['mean'].round(2)\n",
    "grouped_multi['sum'] = grouped_multi['sum'].round(3)\n",
    "grouped_multi['max'] = grouped_multi['max'].round(2)\n",
    "print(grouped_multi)"
   ]
  },
  {
   "cell_type": "code",
   "execution_count": null,
   "id": "97990d0a-2d4f-41b9-a15a-ddd162d4feee",
   "metadata": {},
   "outputs": [],
   "source": []
  },
  {
   "cell_type": "code",
   "execution_count": null,
   "id": "9ecc795e-f91d-4667-a051-42aa1a7212c9",
   "metadata": {},
   "outputs": [],
   "source": []
  }
 ],
 "metadata": {
  "kernelspec": {
   "display_name": "Python [conda env:base] *",
   "language": "python",
   "name": "conda-base-py"
  },
  "language_info": {
   "codemirror_mode": {
    "name": "ipython",
    "version": 3
   },
   "file_extension": ".py",
   "mimetype": "text/x-python",
   "name": "python",
   "nbconvert_exporter": "python",
   "pygments_lexer": "ipython3",
   "version": "3.13.5"
  }
 },
 "nbformat": 4,
 "nbformat_minor": 5
}
