{
 "cells": [
  {
   "cell_type": "code",
   "execution_count": 5,
   "id": "11dc39ba-5c2a-4715-918a-78647254616e",
   "metadata": {
    "scrolled": true
   },
   "outputs": [
    {
     "name": "stdin",
     "output_type": "stream",
     "text": [
      "Enter Number: 5\n"
     ]
    },
    {
     "name": "stdout",
     "output_type": "stream",
     "text": [
      "Factorial of Number: 5 = 120\n"
     ]
    }
   ],
   "source": [
    "#Problem 6\n",
    "# Solution\n",
    "def factorial(num):\n",
    "    if num==0:\n",
    "        return 1\n",
    "    return num * factorial(num-1)\n",
    "\n",
    "num = int(input(\"Enter Number:\"))\n",
    "fac = factorial(num)\n",
    "print(f\"Factorial of Number: {num} = {fac}\")"
   ]
  },
  {
   "cell_type": "code",
   "execution_count": 8,
   "id": "6b8c451b-80ae-48af-9e2b-744d3372b013",
   "metadata": {},
   "outputs": [
    {
     "name": "stdout",
     "output_type": "stream",
     "text": [
      "The maximum value is: 45\n",
      "The maximum value is: 45\n"
     ]
    }
   ],
   "source": [
    "# Problem 5\n",
    "# Solution\n",
    "numbers = [5,2,12,1,45,33]\n",
    "largest = max(numbers)\n",
    "print(\"The maximum value is:\",largest)\n",
    "\n",
    "largest = numbers[0]\n",
    "for x in numbers:\n",
    "    if x > largest:\n",
    "        largest = x\n",
    "\n",
    "print(\"The maximum value is:\",largest)\n"
   ]
  },
  {
   "cell_type": "code",
   "execution_count": 17,
   "id": "1cb74177-5060-4c3b-838b-51e9dd059db7",
   "metadata": {},
   "outputs": [
    {
     "name": "stdout",
     "output_type": "stream",
     "text": [
      "Python is a multi-paradigm programming language. Object-oriented programming and structured programming are fully supported, and many of their features support functional programming and aspect-oriented programming – including metaprogramming[57] and metaobjects.[58] Many other paradigms are supported via extensions, including design by contract[59][60] and logic programming.[61] Python is often referred to as a 'glue language'[62] because it is purposely designed to be able to integrate components written in other languages.\n",
      "\n",
      "Python uses dynamic typing and a combination of reference counting and a cycle-detecting garbage collector for memory management.[63] It uses dynamic name resolution (late binding), which binds method and variable names during program execution.\n"
     ]
    }
   ],
   "source": [
    "# Problem 7\n",
    "# Solution\n",
    "file = None\n",
    "try:\n",
    "    with open(\"Day2/sample.txt\",\"r\") as file:\n",
    "        content = file.read()\n",
    "        print(content)\n",
    "except FileNotFoundError:\n",
    "    print(\"File not found\")    \n"
   ]
  },
  {
   "cell_type": "code",
   "execution_count": 27,
   "id": "04579c61-81fe-4f9c-bd50-212b2e4b17c0",
   "metadata": {},
   "outputs": [
    {
     "name": "stdout",
     "output_type": "stream",
     "text": [
      "File exist\n",
      "File Exist\n",
      "File Exists\n"
     ]
    }
   ],
   "source": [
    "# Problem 8\n",
    "# Solution\n",
    "file = None\n",
    "try:\n",
    "    file = open(\"Day2/sample.txt\",\"r\")\n",
    "    \n",
    "    print(\"File exist\")\n",
    "    \n",
    "except FileNotFoundError:\n",
    "    print(\"Unable to read file\")\n",
    "\n",
    "\n",
    "import os\n",
    "if os.path.exists(\"Day2/sample.txt\"):\n",
    "    print(\"File Exist\")\n",
    "else:\n",
    "    print(\"File doesnot exist\")\n",
    "\n",
    "from pathlib import Path\n",
    "file_path = Path(\"Day2/sample.txt\")\n",
    "if file_path.exists():\n",
    "    print(\"File Exists\")\n",
    "else:\n",
    "    print(\"File doesnot exist\")"
   ]
  },
  {
   "cell_type": "code",
   "execution_count": 30,
   "id": "adcecc4b-c059-4c0c-8b83-2ff5d9803334",
   "metadata": {},
   "outputs": [
    {
     "name": "stdout",
     "output_type": "stream",
     "text": [
      "x=2.0,y=1.0\n"
     ]
    }
   ],
   "source": [
    "# Problem 9\n",
    "# Solution\n",
    "# 2x + y = 5\n",
    "# x - y = 1\n",
    "# x = y+1\n",
    "# 2(y+1)+y = 5\n",
    "# 2y+2+y = 5\n",
    "# 3y = 3\n",
    "# y = 1\n",
    "# x = 2\n",
    "\n",
    "import numpy as np\n",
    "# Coefficients of Equations\n",
    "# 2X+y = 5 -> [2,1]\n",
    "# x-y = 1 ->[1,-1]\n",
    "\n",
    "# A system of equations can be written as:\n",
    "#    A . X = B\n",
    "# Where \n",
    "# - A = matrix of Coefficient \n",
    "# - X = column vector of unknowns\n",
    "# - B = column vector of constants\n",
    "# So, for our system:\n",
    "#    2   1       x      5\n",
    "#    1  -1       y      1\n",
    "\n",
    "# That means:\n",
    "#  A =  2   1\n",
    "#       1  -1\n",
    "\n",
    "#  B =  5\n",
    "#       1\n",
    "\n",
    "\n",
    "A = np.array([[2,1],[1,-1]])\n",
    "B = np.array([5,1])\n",
    "\n",
    "x,y = np.linalg.solve(A,B)\n",
    "\n",
    "print(f\"x={x},y={y}\")\n"
   ]
  },
  {
   "cell_type": "code",
   "execution_count": null,
   "id": "86f93c5b-54a4-4f6d-8c27-a4a6f05686b2",
   "metadata": {},
   "outputs": [],
   "source": []
  }
 ],
 "metadata": {
  "kernelspec": {
   "display_name": "Python [conda env:base] *",
   "language": "python",
   "name": "conda-base-py"
  },
  "language_info": {
   "codemirror_mode": {
    "name": "ipython",
    "version": 3
   },
   "file_extension": ".py",
   "mimetype": "text/x-python",
   "name": "python",
   "nbconvert_exporter": "python",
   "pygments_lexer": "ipython3",
   "version": "3.13.5"
  }
 },
 "nbformat": 4,
 "nbformat_minor": 5
}
