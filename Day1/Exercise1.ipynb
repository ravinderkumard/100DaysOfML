{
 "cells": [
  {
   "cell_type": "code",
   "execution_count": 6,
   "id": "1d3d7d29-0e05-4542-a676-c641266b681f",
   "metadata": {},
   "outputs": [
    {
     "name": "stdin",
     "output_type": "stream",
     "text": [
      "Enter Number: 56789765432123\n"
     ]
    },
    {
     "name": "stdout",
     "output_type": "stream",
     "text": [
      "Sum of digits:  68\n"
     ]
    }
   ],
   "source": [
    "num = int(input(\"Enter Number:\"))\n",
    "temp = num\n",
    "sum = 0\n",
    "while temp >0:\n",
    "    rem = temp%10\n",
    "    sum = sum+rem\n",
    "    temp = temp//10\n",
    "print(\"Sum of digits: \",sum)"
   ]
  },
  {
   "cell_type": "code",
   "execution_count": 7,
   "id": "2f3d922f-5c73-423b-bc1d-32f416f549bc",
   "metadata": {},
   "outputs": [
    {
     "name": "stdin",
     "output_type": "stream",
     "text": [
      "Enter number: 45\n"
     ]
    },
    {
     "name": "stdout",
     "output_type": "stream",
     "text": [
      "Digit Sum =  9\n"
     ]
    }
   ],
   "source": [
    "def sum(num):\n",
    "    if num==0:\n",
    "        return 0\n",
    "    return num%10 + sum(num//10)\n",
    "\n",
    "result = sum(int(input(\"Enter number:\")))\n",
    "print(\"Digit Sum = \",result)"
   ]
  },
  {
   "cell_type": "code",
   "execution_count": 13,
   "id": "b60ee824-e6c5-4653-b280-f9fabaf7d596",
   "metadata": {},
   "outputs": [
    {
     "name": "stdin",
     "output_type": "stream",
     "text": [
      "Enter number: 9474\n"
     ]
    },
    {
     "name": "stdout",
     "output_type": "stream",
     "text": [
      "Number is armstrong\n"
     ]
    }
   ],
   "source": [
    "# Problem 2:\n",
    "def digitCount(num):\n",
    "    if num==0:\n",
    "        return 0\n",
    "    return 1+digitCount(num//10)\n",
    "num = int(input(\"Enter number:\"))\n",
    "orig = num\n",
    "digit_count = digitCount(num)\n",
    "output_sum = 0\n",
    "while num > 0:\n",
    "    rem = num % 10\n",
    "    output_sum = output_sum + rem**digit_count\n",
    "    num = num//10\n",
    "\n",
    "if output_sum == orig:\n",
    "    print(\"Number is armstrong\")\n",
    "else:\n",
    "    print(\"Number is not armstrong\")\n",
    "\n"
   ]
  },
  {
   "cell_type": "code",
   "execution_count": 17,
   "id": "75e216aa-5124-444a-8254-f459346cdd80",
   "metadata": {},
   "outputs": [
    {
     "name": "stdin",
     "output_type": "stream",
     "text": [
      "Enter some string: music\n"
     ]
    },
    {
     "name": "stdout",
     "output_type": "stream",
     "text": [
      "String is not palindrome\n"
     ]
    }
   ],
   "source": [
    "# Problem 3\n",
    "str = input(\"Enter some string:\")\n",
    "rev_str = str[::-1]\n",
    "if str == rev_str:\n",
    "    print(\"String is palindrome\")\n",
    "else:\n",
    "    print(\"String is not palindrome\")"
   ]
  },
  {
   "cell_type": "code",
   "execution_count": 23,
   "id": "59d3b63c-3464-456b-842c-de37688d9c96",
   "metadata": {},
   "outputs": [
    {
     "name": "stdout",
     "output_type": "stream",
     "text": [
      "{1: 1, 2: 2, 3: 2, 4: 1}\n"
     ]
    }
   ],
   "source": [
    "# Problem 4\n",
    "arr = [1,2,3,3,2,4]\n",
    "dict_arr = {}\n",
    "for num in arr:\n",
    "    val = dict_arr.get(num)\n",
    "    if val:\n",
    "        dict_arr.__setitem__(num,dict_arr.get(num)+1)\n",
    "    else:\n",
    "        dict_arr.__setitem__(num,1)\n",
    "print(dict_arr)"
   ]
  },
  {
   "cell_type": "code",
   "execution_count": 34,
   "id": "c26398bd-2c02-4e34-a17a-a314b76dc9e8",
   "metadata": {},
   "outputs": [
    {
     "name": "stdin",
     "output_type": "stream",
     "text": [
      "Enter number: 12\n"
     ]
    },
    {
     "name": "stdout",
     "output_type": "stream",
     "text": [
      "[2, 2, 3]\n"
     ]
    }
   ],
   "source": [
    "# Problem 5\n",
    "def prime_factors(num):\n",
    "    factors = []\n",
    "    divisor = 2\n",
    "    while num >1:\n",
    "        if num % divisor == 0:\n",
    "            factors.append(divisor)\n",
    "            num//=divisor\n",
    "        else:\n",
    "            divisor+=1\n",
    "    return factors\n",
    "\n",
    "num = int(input(\"Enter number:\"))\n",
    "print(prime_factors(num))\n",
    "\n",
    "        "
   ]
  },
  {
   "cell_type": "code",
   "execution_count": 39,
   "id": "63cb2d05-d16f-49f1-a828-76985cdfc640",
   "metadata": {},
   "outputs": [
    {
     "name": "stdin",
     "output_type": "stream",
     "text": [
      "Enter n: 9\n",
      "Enter r: 5\n"
     ]
    },
    {
     "name": "stdout",
     "output_type": "stream",
     "text": [
      "126\n"
     ]
    }
   ],
   "source": [
    "# Problem 6\n",
    "n = int(input(\"Enter n:\"))\n",
    "r = int(input(\"Enter r:\"))\n",
    "def factorial(num):\n",
    "    if num == 0:\n",
    "        return 1\n",
    "    return num * factorial(num-1)\n",
    "\n",
    "coefficient = factorial(n)//(factorial(r) * factorial(n-r))\n",
    "print(coefficient)\n",
    "        "
   ]
  },
  {
   "cell_type": "code",
   "execution_count": 48,
   "id": "6c0791d6-8708-4726-8535-241159dbfd68",
   "metadata": {},
   "outputs": [
    {
     "name": "stdin",
     "output_type": "stream",
     "text": [
      "Find number:  8\n"
     ]
    },
    {
     "name": "stdout",
     "output_type": "stream",
     "text": [
      "Linear Search Result:  True\n",
      "Binary Search Result:  True\n"
     ]
    }
   ],
   "source": [
    "# Problem 7\n",
    "arr = [1,4,6,8,12,15,23]\n",
    "target = int(input(\"Find number: \"))\n",
    "def findNumber(arr,target):\n",
    "    for x in arr:\n",
    "        if x == target:\n",
    "            return True\n",
    "    return False\n",
    "def binary_search(arr,target):\n",
    "    left = 0\n",
    "    right = len(arr)\n",
    "    while left<right:\n",
    "        mid = left + (right-left)//2\n",
    "        if arr[mid]==target:\n",
    "            return True\n",
    "        elif arr[mid]<target:\n",
    "            left = mid+1\n",
    "        else:\n",
    "            right = mid;\n",
    "    return False\n",
    "\n",
    "print(\"Linear Search Result: \",findNumber(arr,target))\n",
    "print(\"Binary Search Result: \",binary_search(arr,target))"
   ]
  },
  {
   "cell_type": "code",
   "execution_count": 58,
   "id": "fdf268ad-b70f-473d-bd70-2874ccfd77ed",
   "metadata": {},
   "outputs": [
    {
     "name": "stdout",
     "output_type": "stream",
     "text": [
      "[('and', 8), ('programming', 5), ('a', 4)]\n"
     ]
    }
   ],
   "source": [
    "# Problem 8\n",
    "file = open(\"sample.txt\",\"r\")\n",
    "words = {}\n",
    "for line in file:\n",
    "    words_in_line = line.split()\n",
    "    for word in words_in_line:\n",
    "        curr = words.get(word)\n",
    "        if curr:\n",
    "            words.__setitem__(word,curr+1)\n",
    "        else:\n",
    "            words.__setitem__(word,1)\n",
    "\n",
    "sorted_dict_desc = sorted(words.items(), key=lambda item: item[1], reverse=True)\n",
    "top_3 = sorted_dict_desc[:3]\n",
    "print(top_3)\n"
   ]
  },
  {
   "cell_type": "code",
   "execution_count": null,
   "id": "79dd5f8b-26fc-48df-882c-c17428997c90",
   "metadata": {},
   "outputs": [],
   "source": []
  }
 ],
 "metadata": {
  "kernelspec": {
   "display_name": "Python (uv)",
   "language": "python",
   "name": "uv-env"
  },
  "language_info": {
   "codemirror_mode": {
    "name": "ipython",
    "version": 3
   },
   "file_extension": ".py",
   "mimetype": "text/x-python",
   "name": "python",
   "nbconvert_exporter": "python",
   "pygments_lexer": "ipython3",
   "version": "3.13.5"
  }
 },
 "nbformat": 4,
 "nbformat_minor": 5
}
